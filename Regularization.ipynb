{
 "cells": [
  {
   "cell_type": "markdown",
   "id": "b671e4fc",
   "metadata": {},
   "source": [
    "# Regularization\n",
    "- Methods to reduce generalization error\n",
    "\n",
    "## L1 and L2 Regularization"
   ]
  }
 ],
 "metadata": {
  "language_info": {
   "name": "python"
  }
 },
 "nbformat": 4,
 "nbformat_minor": 5
}
